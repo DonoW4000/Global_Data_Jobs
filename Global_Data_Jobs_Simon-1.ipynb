{
 "cells": [
  {
   "cell_type": "code",
   "execution_count": 1,
   "metadata": {},
   "outputs": [],
   "source": [
    "import requests\n",
    "import json\n",
    "import os\n",
    "import pandas as pd\n",
    "import matplotlib.pyplot as plt\n",
    "import seaborn as sns "
   ]
  },
  {
   "cell_type": "code",
   "execution_count": 3,
   "metadata": {},
   "outputs": [],
   "source": [
    "df_global_data = pd.read_csv(\"/Users/simonponce/Desktop/Global_Data_Jobs/clean.csv\")\n",
    "\n"
   ]
  },
  {
   "cell_type": "code",
   "execution_count": 13,
   "metadata": {},
   "outputs": [
    {
     "name": "stdout",
     "output_type": "stream",
     "text": [
      "<class 'pandas.core.frame.DataFrame'>\n",
      "RangeIndex: 21302 entries, 0 to 21301\n",
      "Data columns (total 11 columns):\n",
      " #   Column              Non-Null Count  Dtype         \n",
      "---  ------              --------------  -----         \n",
      " 0   work_year           21302 non-null  datetime64[ns]\n",
      " 1   experience_level    21302 non-null  object        \n",
      " 2   employment_type     21302 non-null  object        \n",
      " 3   job_title           21302 non-null  object        \n",
      " 4   salary              21302 non-null  int64         \n",
      " 5   salary_currency     21302 non-null  object        \n",
      " 6   salary_in_usd       21302 non-null  int64         \n",
      " 7   employee_residence  21302 non-null  object        \n",
      " 8   work_setting        21302 non-null  object        \n",
      " 9   company_location    21302 non-null  object        \n",
      " 10  company_size        21302 non-null  object        \n",
      "dtypes: datetime64[ns](1), int64(2), object(8)\n",
      "memory usage: 1.8+ MB\n"
     ]
    }
   ],
   "source": [
    "df_global_data.info()"
   ]
  },
  {
   "cell_type": "code",
   "execution_count": 11,
   "metadata": {},
   "outputs": [],
   "source": [
    "df_global_data['work_year'] = pd.to_datetime(df_global_data['work_year'], format='%Y')"
   ]
  },
  {
   "cell_type": "code",
   "execution_count": 37,
   "metadata": {},
   "outputs": [
    {
     "data": {
      "text/html": [
       "<div>\n",
       "<style scoped>\n",
       "    .dataframe tbody tr th:only-of-type {\n",
       "        vertical-align: middle;\n",
       "    }\n",
       "\n",
       "    .dataframe tbody tr th {\n",
       "        vertical-align: top;\n",
       "    }\n",
       "\n",
       "    .dataframe thead th {\n",
       "        text-align: right;\n",
       "    }\n",
       "</style>\n",
       "<table border=\"1\" class=\"dataframe\">\n",
       "  <thead>\n",
       "    <tr style=\"text-align: right;\">\n",
       "      <th></th>\n",
       "      <th>work_year</th>\n",
       "      <th>experience_level</th>\n",
       "      <th>employment_type</th>\n",
       "      <th>job_title</th>\n",
       "      <th>salary</th>\n",
       "      <th>salary_currency</th>\n",
       "      <th>salary_in_usd</th>\n",
       "      <th>employee_residence</th>\n",
       "      <th>work_setting</th>\n",
       "      <th>company_location</th>\n",
       "      <th>company_size</th>\n",
       "    </tr>\n",
       "  </thead>\n",
       "  <tbody>\n",
       "    <tr>\n",
       "      <th>0</th>\n",
       "      <td>2024-01-01</td>\n",
       "      <td>Entry-level</td>\n",
       "      <td>Full-time</td>\n",
       "      <td>Data Analyst</td>\n",
       "      <td>20000</td>\n",
       "      <td>USD</td>\n",
       "      <td>20000</td>\n",
       "      <td>India</td>\n",
       "      <td>Remote</td>\n",
       "      <td>India</td>\n",
       "      <td>M</td>\n",
       "    </tr>\n",
       "    <tr>\n",
       "      <th>1</th>\n",
       "      <td>2024-01-01</td>\n",
       "      <td>Entry-level</td>\n",
       "      <td>Full-time</td>\n",
       "      <td>Data Reporting Analyst</td>\n",
       "      <td>58000</td>\n",
       "      <td>USD</td>\n",
       "      <td>58000</td>\n",
       "      <td>United States</td>\n",
       "      <td>In-person</td>\n",
       "      <td>United States</td>\n",
       "      <td>M</td>\n",
       "    </tr>\n",
       "    <tr>\n",
       "      <th>2</th>\n",
       "      <td>2024-01-01</td>\n",
       "      <td>Entry-level</td>\n",
       "      <td>Full-time</td>\n",
       "      <td>Data Reporting Analyst</td>\n",
       "      <td>42000</td>\n",
       "      <td>USD</td>\n",
       "      <td>42000</td>\n",
       "      <td>United States</td>\n",
       "      <td>In-person</td>\n",
       "      <td>United States</td>\n",
       "      <td>M</td>\n",
       "    </tr>\n",
       "    <tr>\n",
       "      <th>3</th>\n",
       "      <td>2024-01-01</td>\n",
       "      <td>Senior</td>\n",
       "      <td>Full-time</td>\n",
       "      <td>Data Manager</td>\n",
       "      <td>169680</td>\n",
       "      <td>USD</td>\n",
       "      <td>169680</td>\n",
       "      <td>United States</td>\n",
       "      <td>Remote</td>\n",
       "      <td>United States</td>\n",
       "      <td>M</td>\n",
       "    </tr>\n",
       "    <tr>\n",
       "      <th>4</th>\n",
       "      <td>2024-01-01</td>\n",
       "      <td>Senior</td>\n",
       "      <td>Full-time</td>\n",
       "      <td>Data Manager</td>\n",
       "      <td>113120</td>\n",
       "      <td>USD</td>\n",
       "      <td>113120</td>\n",
       "      <td>United States</td>\n",
       "      <td>Remote</td>\n",
       "      <td>United States</td>\n",
       "      <td>M</td>\n",
       "    </tr>\n",
       "    <tr>\n",
       "      <th>...</th>\n",
       "      <td>...</td>\n",
       "      <td>...</td>\n",
       "      <td>...</td>\n",
       "      <td>...</td>\n",
       "      <td>...</td>\n",
       "      <td>...</td>\n",
       "      <td>...</td>\n",
       "      <td>...</td>\n",
       "      <td>...</td>\n",
       "      <td>...</td>\n",
       "      <td>...</td>\n",
       "    </tr>\n",
       "    <tr>\n",
       "      <th>21297</th>\n",
       "      <td>2021-01-01</td>\n",
       "      <td>Senior</td>\n",
       "      <td>Full-time</td>\n",
       "      <td>Data Specialist</td>\n",
       "      <td>165000</td>\n",
       "      <td>USD</td>\n",
       "      <td>165000</td>\n",
       "      <td>United States</td>\n",
       "      <td>Remote</td>\n",
       "      <td>United States</td>\n",
       "      <td>L</td>\n",
       "    </tr>\n",
       "    <tr>\n",
       "      <th>21298</th>\n",
       "      <td>2020-01-01</td>\n",
       "      <td>Senior</td>\n",
       "      <td>Full-time</td>\n",
       "      <td>Data Scientist</td>\n",
       "      <td>412000</td>\n",
       "      <td>USD</td>\n",
       "      <td>412000</td>\n",
       "      <td>United States</td>\n",
       "      <td>Remote</td>\n",
       "      <td>United States</td>\n",
       "      <td>L</td>\n",
       "    </tr>\n",
       "    <tr>\n",
       "      <th>21299</th>\n",
       "      <td>2021-01-01</td>\n",
       "      <td>Mid-level</td>\n",
       "      <td>Full-time</td>\n",
       "      <td>Principal Data Scientist</td>\n",
       "      <td>151000</td>\n",
       "      <td>USD</td>\n",
       "      <td>151000</td>\n",
       "      <td>United States</td>\n",
       "      <td>Remote</td>\n",
       "      <td>United States</td>\n",
       "      <td>L</td>\n",
       "    </tr>\n",
       "    <tr>\n",
       "      <th>21300</th>\n",
       "      <td>2020-01-01</td>\n",
       "      <td>Entry-level</td>\n",
       "      <td>Full-time</td>\n",
       "      <td>Data Scientist</td>\n",
       "      <td>105000</td>\n",
       "      <td>USD</td>\n",
       "      <td>105000</td>\n",
       "      <td>United States</td>\n",
       "      <td>Remote</td>\n",
       "      <td>United States</td>\n",
       "      <td>S</td>\n",
       "    </tr>\n",
       "    <tr>\n",
       "      <th>21301</th>\n",
       "      <td>2020-01-01</td>\n",
       "      <td>Entry-level</td>\n",
       "      <td>Contract</td>\n",
       "      <td>Business Data Analyst</td>\n",
       "      <td>100000</td>\n",
       "      <td>USD</td>\n",
       "      <td>100000</td>\n",
       "      <td>United States</td>\n",
       "      <td>Remote</td>\n",
       "      <td>United States</td>\n",
       "      <td>L</td>\n",
       "    </tr>\n",
       "  </tbody>\n",
       "</table>\n",
       "<p>21302 rows × 11 columns</p>\n",
       "</div>"
      ],
      "text/plain": [
       "       work_year experience_level employment_type                 job_title  \\\n",
       "0     2024-01-01      Entry-level       Full-time              Data Analyst   \n",
       "1     2024-01-01      Entry-level       Full-time    Data Reporting Analyst   \n",
       "2     2024-01-01      Entry-level       Full-time    Data Reporting Analyst   \n",
       "3     2024-01-01           Senior       Full-time              Data Manager   \n",
       "4     2024-01-01           Senior       Full-time              Data Manager   \n",
       "...          ...              ...             ...                       ...   \n",
       "21297 2021-01-01           Senior       Full-time           Data Specialist   \n",
       "21298 2020-01-01           Senior       Full-time            Data Scientist   \n",
       "21299 2021-01-01        Mid-level       Full-time  Principal Data Scientist   \n",
       "21300 2020-01-01      Entry-level       Full-time            Data Scientist   \n",
       "21301 2020-01-01      Entry-level        Contract     Business Data Analyst   \n",
       "\n",
       "       salary salary_currency  salary_in_usd employee_residence work_setting  \\\n",
       "0       20000             USD          20000              India       Remote   \n",
       "1       58000             USD          58000      United States    In-person   \n",
       "2       42000             USD          42000      United States    In-person   \n",
       "3      169680             USD         169680      United States       Remote   \n",
       "4      113120             USD         113120      United States       Remote   \n",
       "...       ...             ...            ...                ...          ...   \n",
       "21297  165000             USD         165000      United States       Remote   \n",
       "21298  412000             USD         412000      United States       Remote   \n",
       "21299  151000             USD         151000      United States       Remote   \n",
       "21300  105000             USD         105000      United States       Remote   \n",
       "21301  100000             USD         100000      United States       Remote   \n",
       "\n",
       "      company_location company_size  \n",
       "0                India            M  \n",
       "1        United States            M  \n",
       "2        United States            M  \n",
       "3        United States            M  \n",
       "4        United States            M  \n",
       "...                ...          ...  \n",
       "21297    United States            L  \n",
       "21298    United States            L  \n",
       "21299    United States            L  \n",
       "21300    United States            S  \n",
       "21301    United States            L  \n",
       "\n",
       "[21302 rows x 11 columns]"
      ]
     },
     "execution_count": 37,
     "metadata": {},
     "output_type": "execute_result"
    }
   ],
   "source": [
    "df_global_data\n"
   ]
  },
  {
   "cell_type": "code",
   "execution_count": null,
   "metadata": {},
   "outputs": [],
   "source": [
    "#What is the most common work environmment (office, remote, hybrid)?\n",
    "#Are there trends over time with work_setting?\n",
    "#What is the distribution of salaries across different categories like 'employment_type' or company_size\n",
    "#Are these salary discrepancies based on cetain factor? (box plots)\n",
    "#What are the top N countries for Availabilitg of data jobs? \n",
    "#Average Salary by Location.\n",
    "##time_setting = df_global_data.groupby(['work_year' , 'work_setting']).size().reset_index(name=\"setting\")\n",
    "time_setting = df_global_data= {'work_year': [ 2020, 2021, 2022 ],\n",
    "        'work_setting': ['In_person', 'Remote', 'Hybrid']}\n",
    "time_setting= pd.DataFrame(df_global_data)\n",
    "##time_setting.plot(figsize=(20,10), linewidth=2 , fontsize=20 ,title='Work Setting Over Time')\n",
    "time_setting.plot(kind='bar', x='work_year', y='work_setting', figsize=(20,10), color='#800080')\n",
    "\n",
    "#ork_setting = df_global_data[df_global_data['work_setting']]\n",
    "##time_frame = df_global_data[df_global_data['work_year']]\n",
    " \n",
    "#work_setting = df_global_data['work_setting', 'work_year'].value_counts()\n",
    "#work_setting.sort_values(ascending=True).plot(kind='barh', figsize=(20,10), color='#800080')"
   ]
  },
  {
   "cell_type": "code",
   "execution_count": null,
   "metadata": {},
   "outputs": [],
   "source": [
    "# Convert the 'work_year' column to numeric\n",
    "df_global_data['work_year'] = pd.to_numeric(df_global_data['work_year'])\n",
    "\n",
    "# Convert the dictionary to a DataFrame\n",
    "df_global_data = pd.DataFrame(df_global_data)\n",
    "df_global_data.plot()\n",
    "\n",
    "# Plotting a bar chart\n",
    "#df_global_data.plot(kind='bar', stacked=True, figsize=(10, 6), color=['#800080', '#FFA500', '#008000'])"
   ]
  },
  {
   "cell_type": "code",
   "execution_count": null,
   "metadata": {},
   "outputs": [],
   "source": [
    "df_global_data.columns"
   ]
  },
  {
   "cell_type": "code",
   "execution_count": null,
   "metadata": {},
   "outputs": [],
   "source": []
  },
  {
   "cell_type": "code",
   "execution_count": 66,
   "metadata": {},
   "outputs": [
    {
     "data": {
      "image/png": "[encoded data removed]",
      "text/plain": [
       "<Figure size 1000x800 with 1 Axes>"
      ]
     },
     "metadata": {},
     "output_type": "display_data"
    }
   ],
   "source": [
    "#work_setting.sort_values(by='work_setting', ascending=True).plot(kind='bar', figsize=(30, 20),   color='#800080')\n",
    "#work_setting = df_global_data[df_global_data['work_setting'] == 'Remote', 'Hybrid', 'In-person']\n",
    "\n",
    "#df_global_data[df_global_data['work_setting'].isin(['Remote', 'Hybrid', 'In-person'])]\n",
    "work_settings =df_global_data.groupby(['work_year','work_setting']).size().unstack()\n",
    "work_settings.plot(kind= \"bar\", figsize=(10, 8))\n",
    "#df_global_data.plot(df_global_data['work_setting'].size().unstack(),df_global_data['work_year'],kind='bar', figsize=(10, 8))\n",
    "plt.xlabel(\"Year\")\n",
    "plt.ylabel(\"Count of Work Setting\")\n",
    "plt.title(\"work setting over time\")\n",
    "plt.show()\n",
    "#work_settings['work_setting'].value_counts().plot(kind='bar', figsize=(10, 8), color='#800080')\n",
    "#time_setting = work_setting['work_year'].value_counts().head(10)\n"
   ]
  },
  {
   "cell_type": "code",
   "execution_count": 65,
   "metadata": {},
   "outputs": [
    {
     "ename": "KeyError",
     "evalue": "'work_setting'",
     "output_type": "error",
     "traceback": [
      "\u001b[0;31m---------------------------------------------------------------------------\u001b[0m",
      "\u001b[0;31mKeyError\u001b[0m                                  Traceback (most recent call last)",
      "Cell \u001b[0;32mIn[65], line 1\u001b[0m\n\u001b[0;32m----> 1\u001b[0m x\u001b[38;5;241m=\u001b[39m work_settings\u001b[38;5;241m.\u001b[39mgroupby([\u001b[38;5;124m'\u001b[39m\u001b[38;5;124mwork_year\u001b[39m\u001b[38;5;124m'\u001b[39m, \u001b[38;5;124m'\u001b[39m\u001b[38;5;124mwork_setting\u001b[39m\u001b[38;5;124m'\u001b[39m])\u001b[38;5;241m.\u001b[39msize()\n\u001b[1;32m      3\u001b[0m y\u001b[38;5;241m=\u001b[39m df_global_data[\u001b[38;5;124m'\u001b[39m\u001b[38;5;124mwork_year\u001b[39m\u001b[38;5;124m'\u001b[39m]\u001b[38;5;241m.\u001b[39mvalue_counts()\u001b[38;5;241m.\u001b[39msort_index()\n\u001b[1;32m      5\u001b[0m fig \u001b[38;5;241m=\u001b[39m plt\u001b[38;5;241m.\u001b[39mfigure(figsize \u001b[38;5;241m=\u001b[39m (\u001b[38;5;241m10\u001b[39m, \u001b[38;5;241m5\u001b[39m))\n",
      "File \u001b[0;32m/opt/anaconda3/lib/python3.11/site-packages/pandas/core/frame.py:9183\u001b[0m, in \u001b[0;36mDataFrame.groupby\u001b[0;34m(self, by, axis, level, as_index, sort, group_keys, observed, dropna)\u001b[0m\n\u001b[1;32m   9180\u001b[0m \u001b[38;5;28;01mif\u001b[39;00m level \u001b[38;5;129;01mis\u001b[39;00m \u001b[38;5;28;01mNone\u001b[39;00m \u001b[38;5;129;01mand\u001b[39;00m by \u001b[38;5;129;01mis\u001b[39;00m \u001b[38;5;28;01mNone\u001b[39;00m:\n\u001b[1;32m   9181\u001b[0m     \u001b[38;5;28;01mraise\u001b[39;00m \u001b[38;5;167;01mTypeError\u001b[39;00m(\u001b[38;5;124m\"\u001b[39m\u001b[38;5;124mYou have to supply one of \u001b[39m\u001b[38;5;124m'\u001b[39m\u001b[38;5;124mby\u001b[39m\u001b[38;5;124m'\u001b[39m\u001b[38;5;124m and \u001b[39m\u001b[38;5;124m'\u001b[39m\u001b[38;5;124mlevel\u001b[39m\u001b[38;5;124m'\u001b[39m\u001b[38;5;124m\"\u001b[39m)\n\u001b[0;32m-> 9183\u001b[0m \u001b[38;5;28;01mreturn\u001b[39;00m DataFrameGroupBy(\n\u001b[1;32m   9184\u001b[0m     obj\u001b[38;5;241m=\u001b[39m\u001b[38;5;28mself\u001b[39m,\n\u001b[1;32m   9185\u001b[0m     keys\u001b[38;5;241m=\u001b[39mby,\n\u001b[1;32m   9186\u001b[0m     axis\u001b[38;5;241m=\u001b[39maxis,\n\u001b[1;32m   9187\u001b[0m     level\u001b[38;5;241m=\u001b[39mlevel,\n\u001b[1;32m   9188\u001b[0m     as_index\u001b[38;5;241m=\u001b[39mas_index,\n\u001b[1;32m   9189\u001b[0m     sort\u001b[38;5;241m=\u001b[39msort,\n\u001b[1;32m   9190\u001b[0m     group_keys\u001b[38;5;241m=\u001b[39mgroup_keys,\n\u001b[1;32m   9191\u001b[0m     observed\u001b[38;5;241m=\u001b[39mobserved,\n\u001b[1;32m   9192\u001b[0m     dropna\u001b[38;5;241m=\u001b[39mdropna,\n\u001b[1;32m   9193\u001b[0m )\n",
      "File \u001b[0;32m/opt/anaconda3/lib/python3.11/site-packages/pandas/core/groupby/groupby.py:1329\u001b[0m, in \u001b[0;36mGroupBy.__init__\u001b[0;34m(self, obj, keys, axis, level, grouper, exclusions, selection, as_index, sort, group_keys, observed, dropna)\u001b[0m\n\u001b[1;32m   1326\u001b[0m \u001b[38;5;28mself\u001b[39m\u001b[38;5;241m.\u001b[39mdropna \u001b[38;5;241m=\u001b[39m dropna\n\u001b[1;32m   1328\u001b[0m \u001b[38;5;28;01mif\u001b[39;00m grouper \u001b[38;5;129;01mis\u001b[39;00m \u001b[38;5;28;01mNone\u001b[39;00m:\n\u001b[0;32m-> 1329\u001b[0m     grouper, exclusions, obj \u001b[38;5;241m=\u001b[39m get_grouper(\n\u001b[1;32m   1330\u001b[0m         obj,\n\u001b[1;32m   1331\u001b[0m         keys,\n\u001b[1;32m   1332\u001b[0m         axis\u001b[38;5;241m=\u001b[39maxis,\n\u001b[1;32m   1333\u001b[0m         level\u001b[38;5;241m=\u001b[39mlevel,\n\u001b[1;32m   1334\u001b[0m         sort\u001b[38;5;241m=\u001b[39msort,\n\u001b[1;32m   1335\u001b[0m         observed\u001b[38;5;241m=\u001b[39m\u001b[38;5;28;01mFalse\u001b[39;00m \u001b[38;5;28;01mif\u001b[39;00m observed \u001b[38;5;129;01mis\u001b[39;00m lib\u001b[38;5;241m.\u001b[39mno_default \u001b[38;5;28;01melse\u001b[39;00m observed,\n\u001b[1;32m   1336\u001b[0m         dropna\u001b[38;5;241m=\u001b[39m\u001b[38;5;28mself\u001b[39m\u001b[38;5;241m.\u001b[39mdropna,\n\u001b[1;32m   1337\u001b[0m     )\n\u001b[1;32m   1339\u001b[0m \u001b[38;5;28;01mif\u001b[39;00m observed \u001b[38;5;129;01mis\u001b[39;00m lib\u001b[38;5;241m.\u001b[39mno_default:\n\u001b[1;32m   1340\u001b[0m     \u001b[38;5;28;01mif\u001b[39;00m \u001b[38;5;28many\u001b[39m(ping\u001b[38;5;241m.\u001b[39m_passed_categorical \u001b[38;5;28;01mfor\u001b[39;00m ping \u001b[38;5;129;01min\u001b[39;00m grouper\u001b[38;5;241m.\u001b[39mgroupings):\n",
      "File \u001b[0;32m/opt/anaconda3/lib/python3.11/site-packages/pandas/core/groupby/grouper.py:1043\u001b[0m, in \u001b[0;36mget_grouper\u001b[0;34m(obj, key, axis, level, sort, observed, validate, dropna)\u001b[0m\n\u001b[1;32m   1041\u001b[0m         in_axis, level, gpr \u001b[38;5;241m=\u001b[39m \u001b[38;5;28;01mFalse\u001b[39;00m, gpr, \u001b[38;5;28;01mNone\u001b[39;00m\n\u001b[1;32m   1042\u001b[0m     \u001b[38;5;28;01melse\u001b[39;00m:\n\u001b[0;32m-> 1043\u001b[0m         \u001b[38;5;28;01mraise\u001b[39;00m \u001b[38;5;167;01mKeyError\u001b[39;00m(gpr)\n\u001b[1;32m   1044\u001b[0m \u001b[38;5;28;01melif\u001b[39;00m \u001b[38;5;28misinstance\u001b[39m(gpr, Grouper) \u001b[38;5;129;01mand\u001b[39;00m gpr\u001b[38;5;241m.\u001b[39mkey \u001b[38;5;129;01mis\u001b[39;00m \u001b[38;5;129;01mnot\u001b[39;00m \u001b[38;5;28;01mNone\u001b[39;00m:\n\u001b[1;32m   1045\u001b[0m     \u001b[38;5;66;03m# Add key to exclusions\u001b[39;00m\n\u001b[1;32m   1046\u001b[0m     exclusions\u001b[38;5;241m.\u001b[39madd(gpr\u001b[38;5;241m.\u001b[39mkey)\n",
      "\u001b[0;31mKeyError\u001b[0m: 'work_setting'"
     ]
    }
   ],
   "source": [
    "\n",
    "\n",
    "x= work_settings.groupby(['work_year', 'work_setting']).size()\n",
    "\n",
    "y= df_global_data['work_year'].value_counts().sort_index()\n",
    "\n",
    "fig = plt.figure(figsize = (10, 5))\n",
    "\n",
    "# creating the bar plot\n",
    "plt.bar(x , y, color ='maroon', \n",
    "        width = 0.4)\n",
    "\n",
    "plt.xlabel(\"work_setting\")\n",
    "plt.ylabel(\"year\")\n",
    "plt.title(\"work_arangement over time\")\n",
    "plt.show()"
   ]
  },
  {
   "cell_type": "code",
   "execution_count": 62,
   "metadata": {},
   "outputs": [
    {
     "ename": "NameError",
     "evalue": "name 'work_setting' is not defined",
     "output_type": "error",
     "traceback": [
      "\u001b[0;31m---------------------------------------------------------------------------\u001b[0m",
      "\u001b[0;31mNameError\u001b[0m                                 Traceback (most recent call last)",
      "Cell \u001b[0;32mIn[62], line 6\u001b[0m\n\u001b[1;32m      1\u001b[0m \u001b[38;5;66;03m#work_setting = df_global_data[df_global_data['work_setting'] == 'Remote']\u001b[39;00m\n\u001b[1;32m      2\u001b[0m \n\u001b[1;32m      3\u001b[0m \u001b[38;5;66;03m#time_setting.sort_values(ascending=True).plot(kind='bar', figsize=(10, 8), color='#800080')\u001b[39;00m\n\u001b[1;32m      4\u001b[0m \u001b[38;5;66;03m#work_setting.sort_values(ascending=True).plot(kind='bar', figsize=(20,10), color='#800080')\u001b[39;00m\n\u001b[0;32m----> 6\u001b[0m work_setting\u001b[38;5;241m.\u001b[39msort_values(by\u001b[38;5;241m=\u001b[39m \u001b[38;5;124m'\u001b[39m\u001b[38;5;124mwork_setting\u001b[39m\u001b[38;5;124m'\u001b[39m, ascending\u001b[38;5;241m=\u001b[39m\u001b[38;5;28;01mFalse\u001b[39;00m)\u001b[38;5;241m.\u001b[39mplot(kind\u001b[38;5;241m=\u001b[39m\u001b[38;5;124m'\u001b[39m\u001b[38;5;124mbar\u001b[39m\u001b[38;5;124m'\u001b[39m, figsize\u001b[38;5;241m=\u001b[39m(\u001b[38;5;241m30\u001b[39m, \u001b[38;5;241m20\u001b[39m),   color\u001b[38;5;241m=\u001b[39m\u001b[38;5;124m'\u001b[39m\u001b[38;5;124m#800080\u001b[39m\u001b[38;5;124m'\u001b[39m)\n\u001b[1;32m      7\u001b[0m \u001b[38;5;66;03m#work_setting = df_global_data[df_global_data['work_setting'] == 'Remote', 'Hybrid', 'In-person']\u001b[39;00m\n\u001b[1;32m      8\u001b[0m time_setting \u001b[38;5;241m=\u001b[39m work_setting[\u001b[38;5;124m'\u001b[39m\u001b[38;5;124mwork_setting\u001b[39m\u001b[38;5;124m'\u001b[39m]\u001b[38;5;241m.\u001b[39mvalue_counts()\u001b[38;5;241m.\u001b[39mhead(\u001b[38;5;241m10\u001b[39m)\n",
      "\u001b[0;31mNameError\u001b[0m: name 'work_setting' is not defined"
     ]
    }
   ],
   "source": [
    "#work_setting = df_global_data[df_global_data['work_setting'] == 'Remote']\n",
    "\n",
    "#time_setting.sort_values(ascending=True).plot(kind='bar', figsize=(10, 8), color='#800080')\n",
    "#work_setting.sort_values(ascending=True).plot(kind='bar', figsize=(20,10), color='#800080')\n",
    "\n",
    "work_setting.sort_values(by= 'work_setting', ascending=False).plot(kind='bar', figsize=(30, 20),   color='#800080')\n",
    "#work_setting = df_global_data[df_global_data['work_setting'] == 'Remote', 'Hybrid', 'In-person']\n",
    "time_setting = work_setting['work_setting'].value_counts().head(10)\n",
    "work_settings = df_global_data[df_global_data['work_setting'].isin(['Remote', 'Hybrid', 'In-person'])]\n",
    "\n",
    "# Plot separate bars for each work setting\n",
    "work_settings['work_setting'].value_counts().plot(kind='bar', figsize=(10, 8), color='#800080')\n",
    "\n",
    "\n",
    "\n",
    "\n"
   ]
  },
  {
   "cell_type": "code",
   "execution_count": null,
   "metadata": {},
   "outputs": [],
   "source": [
    "work_setting = df_global_data[df_global_data['work_setting'] == 'Remote', 'Hybrid', 'In-person']\n",
    "time_setting = work_setting['work_year'].value_counts().head(10)\n",
    "\n",
    "# Plot the data\n",
    "ax = time_setting.sort_values(ascending=True).plot(kind='bar', figsize=(20, 10), color='#800080')\n",
    "\n",
    "# Set the x-axis labels\n",
    "ax.set_xticklabels(time_setting.index, rotation=45)\n",
    "\n",
    "plt.show()"
   ]
  },
  {
   "cell_type": "code",
   "execution_count": null,
   "metadata": {},
   "outputs": [],
   "source": [
    "work_setting.sort_values(ascending=True).plot(kind='bar', figsize=(20,10), color='#800080')\n"
   ]
  },
  {
   "cell_type": "code",
   "execution_count": null,
   "metadata": {},
   "outputs": [],
   "source": [
    "df_global_data.plot(figsize=(20,10), linewidth=2 , fontsize=20)\n",
    "plt.xlabel('Year', fontsize=20)\n"
   ]
  },
  {
   "cell_type": "code",
   "execution_count": null,
   "metadata": {},
   "outputs": [],
   "source": []
  },
  {
   "cell_type": "code",
   "execution_count": null,
   "metadata": {},
   "outputs": [],
   "source": []
  },
  {
   "cell_type": "code",
   "execution_count": null,
   "metadata": {},
   "outputs": [],
   "source": []
  },
  {
   "cell_type": "code",
   "execution_count": null,
   "metadata": {},
   "outputs": [],
   "source": []
  }
 ],
 "metadata": {
  "kernelspec": {
   "display_name": "base",
   "language": "python",
   "name": "python3"
  },
  "language_info": {
   "codemirror_mode": {
    "name": "ipython",
    "version": 3
   },
   "file_extension": ".py",
   "mimetype": "text/x-python",
   "name": "python",
   "nbconvert_exporter": "python",
   "pygments_lexer": "ipython3",
   "version": "3.11.8"
  }
 },
 "nbformat": 4,
 "nbformat_minor": 2
}
